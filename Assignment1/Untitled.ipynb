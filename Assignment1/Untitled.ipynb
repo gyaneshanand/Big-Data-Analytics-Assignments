{
 "cells": [
  {
   "cell_type": "markdown",
   "metadata": {},
   "source": [
    "# Assignment 1\n"
   ]
  },
  {
   "cell_type": "markdown",
   "metadata": {},
   "source": [
    "### Data"
   ]
  },
  {
   "cell_type": "markdown",
   "metadata": {},
   "source": [
    "INFO, 2017-03-22T20:11:49+00:00, ghtorrent-31 -- ghtorrent.rb: Added pullreq_commit 244eeac28bf419642d5d5c3b388bd2999c8c72e6 to tgstation/tgstation -> 25341\n",
    "\n",
    "DEBUG, 2017-03-23T11:15:14+00:00, ghtorrent-30 -- retriever.rb: Commit mzvast/FlappyFrog -> 80bf5c5fde7be6274a2721422f4d9a773583f73c exists\n",
    "\n",
    "DEBUG, 2017-03-22T20:15:48+00:00, ghtorrent-35 -- ghtorrent.rb: Parent af8451e16e077f7c6cae3f98bf43bffaca562f88 for commit 2ef393531a3cfbecc69f17d2cedcc95662fae1e6 exists"
   ]
  },
  {
   "cell_type": "code",
   "execution_count": 14,
   "metadata": {},
   "outputs": [],
   "source": [
    "import psycopg2"
   ]
  },
  {
   "cell_type": "code",
   "execution_count": 3,
   "metadata": {},
   "outputs": [
    {
     "name": "stdout",
     "output_type": "stream",
     "text": [
      "9669788\n"
     ]
    }
   ],
   "source": [
    "with open('ghtorrent-logs.txt') as f:\n",
    "    c=0\n",
    "    for line in f:\n",
    "        c+=1\n",
    "    print(c)"
   ]
  },
  {
   "cell_type": "markdown",
   "metadata": {},
   "source": [
    "Total No. of records in file = **9,669,788**"
   ]
  },
  {
   "cell_type": "code",
   "execution_count": 9,
   "metadata": {},
   "outputs": [],
   "source": [
    "def parse(line):\n",
    "    line = line.replace(' -- ', ', ')\n",
    "    line = line.replace('.rb: ', ', ')\n",
    "    line = line.replace(', ghtorrent-', ', ')\n",
    "    return line.split(', ', 4)"
   ]
  },
  {
   "cell_type": "markdown",
   "metadata": {},
   "source": [
    "### Connecting to DataBase"
   ]
  },
  {
   "cell_type": "code",
   "execution_count": 130,
   "metadata": {},
   "outputs": [],
   "source": [
    "conn = psycopg2.connect(database=\"bda_assignment1\", user = \"postgres\", password = \"gyanesh10#@\", host = \"127.0.0.1\", port = \"5432\")\n",
    "cur = conn.cursor()"
   ]
  },
  {
   "cell_type": "code",
   "execution_count": 131,
   "metadata": {},
   "outputs": [],
   "source": [
    "cur = conn.cursor()\n",
    "\n",
    "cur.execute('''CREATE TABLE LOG\n",
    "      (id BIGINT PRIMARY KEY NOT NULL,\n",
    "      logging_level TEXT NOT NULL,\n",
    "      timestamp TIMESTAMP NOT NULL,\n",
    "      downloader_id INT NOT NULL,\n",
    "      retrieval_stage TEXT NOT NULL,\n",
    "      description TEXT NOT NULL);''')\n",
    "conn.commit()"
   ]
  },
  {
   "cell_type": "code",
   "execution_count": 132,
   "metadata": {
    "scrolled": true
   },
   "outputs": [],
   "source": [
    "conn = psycopg2.connect(database=\"bda_assignment1\", user = \"postgres\", password = \"gyanesh10#@\", host = \"127.0.0.1\", port = \"5432\")\n",
    "cur = conn.cursor()\n",
    "with open('ghtorrent-logs.txt') as f:\n",
    "    c=0\n",
    "    length = 0\n",
    "    for line in f:\n",
    "        #print(c)\n",
    "        try:\n",
    "            desc = parse(line)\n",
    "            c+=1\n",
    "            # getting data contained in the line\n",
    "            logging_level = desc[0]\n",
    "            timestamp = desc[1].replace('T',' ')\n",
    "            downloader_id = desc[2]\n",
    "            retrieval_stage = desc[3]\n",
    "            description = desc[4]\n",
    "            #Inserting data in database\n",
    "            values = str(str(c)+ \",\"+'\\''+str(desc[0])+'\\'' + \",\" +'\\'' + desc[1] + '\\'' + \",\" + desc[2] + \",\" + '\\'' + desc[3] + '\\'' + \",\" + '\\'' + desc[4] + '\\'')\n",
    "            query = \"INSERT INTO LOG (id,logging_level,timestamp,downloader_id,retrieval_stage,description) VALUES (\" + values +\");\"      \n",
    "            cur.execute(query);\n",
    "            #print(c)\n",
    "            length += 1\n",
    "        except:\n",
    "            conn.commit()\n",
    "            conn = psycopg2.connect(database=\"bda_assignment1\", user = \"postgres\", password = \"gyanesh10#@\", host = \"127.0.0.1\", port = \"5432\")\n",
    "            cur = conn.cursor()\n",
    "            #print(\"WRONG QUERY :-\",line)\n",
    "            c-=1\n",
    "        if length%1000 == 0:\n",
    "            conn.commit()\n",
    "            conn = psycopg2.connect(database=\"bda_assignment1\", user = \"postgres\", password = \"gyanesh10#@\", host = \"127.0.0.1\", port = \"5432\")\n",
    "            cur = conn.cursor()\n",
    "    conn.commit()"
   ]
  },
  {
   "cell_type": "code",
   "execution_count": 88,
   "metadata": {
    "collapsed": true
   },
   "outputs": [
    {
     "name": "stdout",
     "output_type": "stream",
     "text": [
      "(1, 'INFO', datetime.datetime(2017, 3, 22, 20, 11, 49), 31, 'ghtorrent', 'Added pullreq_commit 244eeac28bf419642d5d5c3b388bd2999c8c72e6 to tgstation/tgstation -> 25341\\n')\n",
      "(2, 'DEBUG', datetime.datetime(2017, 3, 23, 11, 15, 14), 30, 'retriever', 'Commit mzvast/FlappyFrog -> 80bf5c5fde7be6274a2721422f4d9a773583f73c exists\\n')\n",
      "(3, 'DEBUG', datetime.datetime(2017, 3, 22, 20, 15, 48), 35, 'ghtorrent', 'Parent af8451e16e077f7c6cae3f98bf43bffaca562f88 for commit 2ef393531a3cfbecc69f17d2cedcc95662fae1e6 exists\\n')\n",
      "(4, 'DEBUG', datetime.datetime(2017, 3, 24, 12, 29, 50), 49, 'ghtorrent', 'Parent cf060bf3b789ac6391b2f7c1cdc34191c2bc773d for commit 8c924c1115e1abddcaddc27c6e7fd5806583ea90 exists\\n')\n",
      "(5, 'DEBUG', datetime.datetime(2017, 3, 23, 9, 0, 44), 8, 'retriever', 'Commit iamtheanon/d3 -> a7caf9375fe14d7235562af541fe9decf499bbfb exists\\n')\n",
      "(6, 'DEBUG', datetime.datetime(2017, 3, 24, 10, 52, 47), 50, 'ghtorrent', 'Repo alyuev/urantia-study-edition exists\\n')\n",
      "(7, 'DEBUG', datetime.datetime(2017, 3, 23, 11, 2, 10), 45, 'retriever', 'Commit heycalmdown/node-confluence -> 2900cc8718deb2453ff39c909d2563d96227fb3f exists\\n')\n",
      "(8, 'INFO', datetime.datetime(2017, 3, 23, 10, 31, 57), 45, 'retriever', 'Added commit patrickTingen/DataDigger -> d807d38fe9b9bd1325d45d69752fbabd89d73d96\\n')\n",
      "(9, 'INFO', datetime.datetime(2017, 3, 22, 20, 14, 31), 32, 'ghtorrent', 'Added commit_assoc of cfd33b7282e5b03e4dc5c2509564e2189cd69af7 with RicardoGuzmanVelasco/Unity-Beat-Detection\\n')\n",
      "(10, 'DEBUG', datetime.datetime(2017, 3, 23, 11, 3, 3), 39, 'ghtorrent', 'Transaction committed (618 ms)\\n')\n",
      "(11, 'DEBUG', datetime.datetime(2017, 3, 23, 10, 25, 25), 5, 'ghtorrent', 'User LaurineDrodzinski exists\\n')\n",
      "(12, 'DEBUG', datetime.datetime(2017, 3, 23, 10, 10, 23), 6, 'ghtorrent', 'Association of commit 1dc86dbc1a6b8c70f75fd142df22bb7f9a8fede6 with repo ccnmtl/wardenclyffe exists\\n')\n",
      "(13, 'INFO', datetime.datetime(2017, 3, 23, 13, 11, 6), 20, 'ghtorrent', 'Added commit_parent e46e8a754370c69612ee510a6fa7f1a870ca92c9 to commit 2f4a7d08f28485fbceea0fd390e5142070966948\\n')\n",
      "(14, 'INFO', datetime.datetime(2017, 3, 23, 11, 0, 45), 29, 'ghtorrent', 'Added commit ryanniehaus/open_source_package_builder -> 02c6b0f3766d979852b72efcc871e5d333bcddca \\n')\n",
      "(15, 'DEBUG', datetime.datetime(2017, 3, 23, 11, 11, 41), 7, 'ghtorrent', 'User pramot5525 exists\\n')\n",
      "(16, 'DEBUG', datetime.datetime(2017, 3, 23, 10, 36, 24), 41, 'ghtorrent', 'User ovyx exists\\n')\n",
      "(17, 'INFO', datetime.datetime(2017, 3, 24, 12, 8, 59), 47, 'ghtorrent', 'Added issue_comment Elgg/Elgg -> 6903/288825985\\n')\n",
      "(18, 'INFO', datetime.datetime(2017, 3, 23, 11, 8, 13), 8, 'api_client', 'Successful request. URL: https://api.github.com/repos/Particular/NServiceBus.Persistence.ServiceFabric/pulls/10/comments?per_page=100, Remaining: 3333, Total: 110 ms\\n')\n",
      "(19, 'DEBUG', datetime.datetime(2017, 3, 23, 12, 2, 6), 31, 'ghtorrent', 'Association of commit 7ce873512d609ed53a6c38eb32d5a1a706712c0d with repo ovh/cds exists\\n')\n",
      "(20, 'DEBUG', datetime.datetime(2017, 3, 23, 9, 15, 33), 3, 'retriever', 'issues angular/angular -> 13460 exists\\n')\n",
      "(21, 'DEBUG', datetime.datetime(2017, 3, 23, 11, 52, 13), 25, 'retriever', 'Commit omarqe/jQuery-File-Upload -> bf2513ab40b42422b3badedacec2c6d8d9f95892 exists\\n')\n",
      "(22, 'DEBUG', datetime.datetime(2017, 3, 23, 9, 7, 30), 6, 'retriever', 'Commit zhoufoxcn/quartznet -> b883fdb3efd594bd69ae56cca9c51bab6e646a91 exists\\n')\n",
      "(23, 'DEBUG', datetime.datetime(2017, 3, 23, 9, 23, 35), 41, 'ghtorrent', 'Transaction committed (505 ms)\\n')\n",
      "(24, 'DEBUG', datetime.datetime(2017, 3, 23, 12, 3, 40), 42, 'ghtorrent', 'Commit webfactory/doctrine-orm-test-infrastructure -> 612e02eca4b2002b337b15da60b75631e88ddc9a exists\\n')\n",
      "(25, 'INFO', datetime.datetime(2017, 3, 23, 9, 11, 17), 5, 'api_client', 'Successful request. URL: https://api.github.com/repos/javier-serrano/web-ui-a2?per_page=100, Remaining: 3381, Total: 153 ms\\n')\n",
      "(26, 'DEBUG', datetime.datetime(2017, 3, 23, 10, 7, 41), 5, 'retriever', 'Commit hypgr/Activiti -> ad38bd9cbe39e235de3d484ddddbfca4aeea4e94 exists\\n')\n",
      "(27, 'DEBUG', datetime.datetime(2017, 3, 23, 10, 6, 43), 38, 'ghtorrent', 'User jni exists\\n')\n",
      "(28, 'INFO', datetime.datetime(2017, 3, 23, 9, 22, 56), 1, 'api_client', 'Successful request. URL: https://api.github.com/repos/llyp618/move.js/labels/invalid, Remaining: 2040, Total: 68 ms\\n')\n",
      "(29, 'DEBUG', datetime.datetime(2017, 3, 24, 13, 2, 48), 49, 'retriever', 'issues facebook/flow -> 3150 exists\\n')\n",
      "(30, 'INFO', datetime.datetime(2017, 3, 23, 11, 12, 36), 32, 'api_client', 'Successful request. URL: https://api.github.com/repos/mdmahamodur2013/EcomAngularRawPhp/pulls?page=1&per_page=100, Remaining: 2348, Total: 62 ms\\n')\n",
      "(31, 'INFO', datetime.datetime(2017, 3, 23, 10, 0, 17), 40, 'ghtorrent', 'Added commit_parent 909b8a5fcc8a67d966a9cdb5137d08f90de0a71e to commit c8f8f2eec2b94253daba57ac209d256583642d7e\\n')\n",
      "(32, 'DEBUG', datetime.datetime(2017, 3, 23, 9, 4, 29), 37, 'retriever', 'pull_requests apple/swift -> 4087 exists\\n')\n",
      "(33, 'INFO', datetime.datetime(2017, 3, 23, 12, 7, 5), 5, 'api_client', 'Successful request. URL: https://api.github.com/repos/cultuurnet/udb3-search/issues?per_page=100, Remaining: 3028, Total: 100 ms\\n')\n",
      "(34, 'DEBUG', datetime.datetime(2017, 3, 23, 11, 4, 20), 10, 'ghtorrent', 'Repo nuxeo/nuxeo exists\\n')\n",
      "(35, 'INFO', datetime.datetime(2017, 3, 23, 11, 9, 15), 7, 'api_client', 'Successful request. URL: https://api.github.com/repos/Shopify/shipit-engine/pulls/669/commits?per_page=100, Remaining: 3500, Total: 95 ms\\n')\n",
      "(36, 'INFO', datetime.datetime(2017, 3, 23, 12, 2, 58), 44, 'ghtorrent', 'Added project_language dovikos/mybatis-3 -> SQLPL (5509 bytes)\\n')\n",
      "(37, 'DEBUG', datetime.datetime(2017, 3, 23, 12, 6, 54), 36, 'ghtorrent', 'User AkihikoHamano exists\\n')\n",
      "(38, 'DEBUG', datetime.datetime(2017, 3, 23, 11, 13, 28), 8, 'ghtorrent', 'Transaction committed (179 ms)\\n')\n",
      "(39, 'DEBUG', datetime.datetime(2017, 3, 23, 9, 21, 29), 13, 'ghtorrent', 'Fork creatobg/decoy is 0 commits ahead and 6 commits behind BKWLD/decoy\\n')\n",
      "(40, 'DEBUG', datetime.datetime(2017, 3, 23, 11, 17, 9), 42, 'ghtorrent', 'Repo node-inspector/node-inspector exists\\n')\n"
     ]
    }
   ],
   "source": [
    "cur.execute(\"SELECT id,logging_level,timestamp,downloader_id,retrieval_stage,descreption from test\")\n",
    "rows = cur.fetchall()\n",
    "for row in rows:\n",
    "    print(row);"
   ]
  },
  {
   "cell_type": "code",
   "execution_count": null,
   "metadata": {},
   "outputs": [],
   "source": [
    "\n",
    "with open('test_file.txt') as f:\n",
    "    c=0\n",
    "    length = 0\n",
    "    values = \"\"\n",
    "    for line in f:\n",
    "        desc = parse(line)\n",
    "        c+=1\n",
    "        try:  \n",
    "            # getting data contained in the line\n",
    "            logging_level = desc[0]\n",
    "            timestamp = desc[1].replace('T',' ')\n",
    "            downloader_id = desc[2]\n",
    "            retrieval_stage = desc[3]\n",
    "            descreption = desc[4]\n",
    "            value = str(\"(\"+str(c)+ \",\"+'\\''+str(desc[0])+'\\'' + \",\" +'\\'' + desc[1] + '\\'' + \",\" + desc[2] + \",\" + '\\'' + desc[3] + '\\'' + \",\" + '\\'' + desc[4] + '\\''+\")\")\n",
    "            values = values + value + \",\"\n",
    "            length += 1\n",
    "            print(c)\n",
    "        except:\n",
    "            query = \"INSERT INTO test (id,logging_level,timestamp,downloader_id,retrieval_stage,descreption) VALUES \" + values +\";\"      \n",
    "            cur.execute(query);\n",
    "            conn.commit()\n",
    "            conn = psycopg2.connect(database=\"bda_assignment1\", user = \"postgres\", password = \"gyanesh10#@\", host = \"127.0.0.1\", port = \"5432\")\n",
    "            cur = conn.cursor()\n",
    "            print(\"WRONG QUERY :-\",line)\n",
    "            c-=1\n",
    "        if length%100000 == 0:\n",
    "            #Inserting data in database\n",
    "            query = \"INSERT INTO test (id,logging_level,timestamp,downloader_id,retrieval_stage,descreption) VALUES \" + values +\";\"      \n",
    "            cur.execute(query);\n",
    "            conn.commit()\n",
    "            conn = psycopg2.connect(database=\"bda_assignment1\", user = \"postgres\", password = \"gyanesh10#@\", host = \"127.0.0.1\", port = \"5432\")\n",
    "            cur = conn.cursor()\n",
    "    #Inserting data in database\n",
    "    query = \"INSERT INTO test (id,logging_level,timestamp,downloader_id,retrieval_stage,descreption) VALUES \" + values +\";\"      \n",
    "    cur.execute(query);\n",
    "    conn.commit()"
   ]
  }
 ],
 "metadata": {
  "kernelspec": {
   "display_name": "Python 3",
   "language": "python",
   "name": "python3"
  },
  "language_info": {
   "codemirror_mode": {
    "name": "ipython",
    "version": 3
   },
   "file_extension": ".py",
   "mimetype": "text/x-python",
   "name": "python",
   "nbconvert_exporter": "python",
   "pygments_lexer": "ipython3",
   "version": "3.6.9"
  }
 },
 "nbformat": 4,
 "nbformat_minor": 2
}
